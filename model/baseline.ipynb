{
 "cells": [
  {
   "cell_type": "markdown",
   "id": "99ede5d5-1699-43be-9bc1-47441f47670a",
   "metadata": {
    "tags": []
   },
   "source": [
    "# 오디오 감정 분류 모델 베이스 라인"
   ]
  },
  {
   "cell_type": "markdown",
   "id": "56b2ff98-457e-4aef-bc62-786a29edccce",
   "metadata": {
    "tags": []
   },
   "source": [
    "## 라이브러리 호출"
   ]
  },
  {
   "cell_type": "code",
   "execution_count": 1,
   "id": "4908c4c3-3470-45bb-9bac-4d98c3dcf22a",
   "metadata": {},
   "outputs": [],
   "source": [
    "import os\n",
    "import pandas as pd\n",
    "import numpy as np\n",
    "import matplotlib.pyplot as plt\n",
    "import scipy\n",
    "import tensorflow as tf\n",
    "import keras\n",
    "from tqdm import tqdm\n",
    "from glob import glob\n",
    "from scipy.io import wavfile\n",
    "import librosa\n",
    "import librosa.display"
   ]
  },
  {
   "cell_type": "markdown",
   "id": "6a47e870-f13f-4f57-bbb3-d354c5a020af",
   "metadata": {},
   "source": [
    "## 데이터 전처리"
   ]
  },
  {
   "cell_type": "code",
   "execution_count": 2,
   "id": "8e0beec8-d42e-46a9-8246-387554686925",
   "metadata": {},
   "outputs": [],
   "source": [
    "data = pd.read_csv(\"./data.csv\")"
   ]
  },
  {
   "cell_type": "markdown",
   "id": "9e270bb9-929e-4a18-9c3c-91cdc5199d8c",
   "metadata": {},
   "source": [
    "### mfcc로 데이터 특징 추출\n",
    "- n_mfcc : 5\n",
    "- 참고 : 파일명을 찾을 수 없는 경우가 있어서 제외 시켜줌"
   ]
  },
  {
   "cell_type": "code",
   "execution_count": 3,
   "id": "b19e13f6-5aed-4da3-be6d-20707fdb7ac1",
   "metadata": {},
   "outputs": [],
   "source": [
    "import pickle\n",
    "\n",
    "with open('x.pickle', 'rb') as f:\n",
    "    x = pickle.load(f)\n",
    "with open('y.pickle', 'rb') as f:\n",
    "    y = pickle.load(f)"
   ]
  },
  {
   "cell_type": "code",
   "execution_count": 4,
   "id": "0b77ba7c-a381-4bc6-8b83-06b8c97b8ea0",
   "metadata": {},
   "outputs": [
    {
     "name": "stdout",
     "output_type": "stream",
     "text": [
      "43975\n"
     ]
    }
   ],
   "source": [
    "print(len(x))"
   ]
  },
  {
   "cell_type": "code",
   "execution_count": 5,
   "id": "3a695101-9365-46af-bb86-fd3e4772b006",
   "metadata": {},
   "outputs": [
    {
     "data": {
      "text/html": [
       "<div>\n",
       "<style scoped>\n",
       "    .dataframe tbody tr th:only-of-type {\n",
       "        vertical-align: middle;\n",
       "    }\n",
       "\n",
       "    .dataframe tbody tr th {\n",
       "        vertical-align: top;\n",
       "    }\n",
       "\n",
       "    .dataframe thead th {\n",
       "        text-align: right;\n",
       "    }\n",
       "</style>\n",
       "<table border=\"1\" class=\"dataframe\">\n",
       "  <thead>\n",
       "    <tr style=\"text-align: right;\">\n",
       "      <th></th>\n",
       "      <th>0</th>\n",
       "      <th>1</th>\n",
       "      <th>2</th>\n",
       "      <th>3</th>\n",
       "      <th>4</th>\n",
       "    </tr>\n",
       "  </thead>\n",
       "  <tbody>\n",
       "    <tr>\n",
       "      <th>0</th>\n",
       "      <td>-434.244049</td>\n",
       "      <td>80.879303</td>\n",
       "      <td>2.758545</td>\n",
       "      <td>24.256662</td>\n",
       "      <td>-10.964857</td>\n",
       "    </tr>\n",
       "    <tr>\n",
       "      <th>1</th>\n",
       "      <td>-414.942932</td>\n",
       "      <td>71.783630</td>\n",
       "      <td>2.073137</td>\n",
       "      <td>16.111912</td>\n",
       "      <td>-12.043771</td>\n",
       "    </tr>\n",
       "  </tbody>\n",
       "</table>\n",
       "</div>"
      ],
      "text/plain": [
       "            0          1         2          3          4\n",
       "0 -434.244049  80.879303  2.758545  24.256662 -10.964857\n",
       "1 -414.942932  71.783630  2.073137  16.111912 -12.043771"
      ]
     },
     "execution_count": 5,
     "metadata": {},
     "output_type": "execute_result"
    }
   ],
   "source": [
    "x = pd.DataFrame(x)\n",
    "x.head(2)"
   ]
  },
  {
   "cell_type": "markdown",
   "id": "87c5f38c-9d7b-433c-a777-2cbb12186601",
   "metadata": {},
   "source": [
    "### 재라벨링 & 라벨 인코딩\n",
    "- y값 중 sad와 sadness는 sad로 통일\n",
    "- 정답값을 라벨인코더를 통해 범주형 변수를 수치형 변수로 변경"
   ]
  },
  {
   "cell_type": "code",
   "execution_count": 6,
   "id": "09535047-a4da-49bf-84d9-2862d3566673",
   "metadata": {},
   "outputs": [],
   "source": [
    "y = pd.DataFrame(y)"
   ]
  },
  {
   "cell_type": "code",
   "execution_count": 7,
   "id": "47f53eb3-f68e-4913-909d-cc9c7db2263c",
   "metadata": {},
   "outputs": [
    {
     "data": {
      "text/plain": [
       "sad          11138\n",
       "anger         8370\n",
       "disgust       4660\n",
       "happiness     4548\n",
       "fear          4131\n",
       "angry         3263\n",
       "neutral       3262\n",
       "sadness       2848\n",
       "surprise      1755\n",
       "Name: 0, dtype: int64"
      ]
     },
     "execution_count": 7,
     "metadata": {},
     "output_type": "execute_result"
    }
   ],
   "source": [
    "y[0].value_counts()"
   ]
  },
  {
   "cell_type": "code",
   "execution_count": 8,
   "id": "032ea741-98a5-4b16-928b-4bb4f1220d9d",
   "metadata": {},
   "outputs": [],
   "source": [
    "y[y[0] == 'sadness'] = 'sad'"
   ]
  },
  {
   "cell_type": "code",
   "execution_count": 9,
   "id": "536249c2-ddc8-4f4e-8ad6-1d2fde1e4b21",
   "metadata": {},
   "outputs": [
    {
     "data": {
      "text/plain": [
       "sad          13986\n",
       "anger         8370\n",
       "disgust       4660\n",
       "happiness     4548\n",
       "fear          4131\n",
       "angry         3263\n",
       "neutral       3262\n",
       "surprise      1755\n",
       "Name: 0, dtype: int64"
      ]
     },
     "execution_count": 9,
     "metadata": {},
     "output_type": "execute_result"
    }
   ],
   "source": [
    "y[0].value_counts()"
   ]
  },
  {
   "cell_type": "code",
   "execution_count": 10,
   "id": "ef7e4ce8-d4f1-47f3-a062-a5084906cfc3",
   "metadata": {},
   "outputs": [],
   "source": [
    "from sklearn.preprocessing import LabelEncoder\n",
    "\n",
    "encoder = LabelEncoder()\n",
    "y = encoder.fit_transform(y[0])"
   ]
  },
  {
   "cell_type": "markdown",
   "id": "80dd068a-c8c8-405e-9ff6-fd6b7d0abcf5",
   "metadata": {},
   "source": [
    "### train test 셋 분리"
   ]
  },
  {
   "cell_type": "code",
   "execution_count": 11,
   "id": "f0b252ff-92b9-47d5-8cba-6a6a8affc2fc",
   "metadata": {},
   "outputs": [],
   "source": [
    "from sklearn.model_selection import train_test_split\n",
    "\n",
    "x_train, x_test, y_train, y_test = train_test_split(x, y, test_size=0.2, random_state=42, stratify=y)\n",
    "x_train, x_val, y_train, y_val = train_test_split(x_train, y_train, test_size=0.2, random_state=42, stratify=y_train)"
   ]
  },
  {
   "cell_type": "code",
   "execution_count": 12,
   "id": "289909d9-38f6-42af-91c9-a9052e4122b5",
   "metadata": {},
   "outputs": [
    {
     "name": "stdout",
     "output_type": "stream",
     "text": [
      "(28144, 5) (8795, 5) (7036, 5) (28144,) (8795,) (7036,)\n"
     ]
    }
   ],
   "source": [
    "print(x_train.shape, x_test.shape, x_val.shape, y_train.shape, y_test.shape, y_val.shape)"
   ]
  },
  {
   "cell_type": "code",
   "execution_count": null,
   "id": "957745a0-0902-4137-8a45-a0c2f04d77b4",
   "metadata": {},
   "outputs": [],
   "source": []
  },
  {
   "cell_type": "markdown",
   "id": "b212c8f1-1052-4622-8037-e92cf19c4242",
   "metadata": {},
   "source": [
    "### 스케일링"
   ]
  },
  {
   "cell_type": "code",
   "execution_count": 13,
   "id": "ea7722ac-5c53-4300-bb3c-bfa3245da748",
   "metadata": {},
   "outputs": [],
   "source": [
    "x_train_s = x_train.copy()\n",
    "x_val_s = x_val.copy()\n",
    "x_test_s = x_test.copy()"
   ]
  },
  {
   "cell_type": "code",
   "execution_count": 14,
   "id": "74cc72a8-df8c-4297-acb7-aa471a177bd5",
   "metadata": {},
   "outputs": [],
   "source": [
    "from sklearn.preprocessing import MinMaxScaler\n",
    "\n",
    "scaler = MinMaxScaler()\n",
    "x_train_s = scaler.fit_transform(x_train_s)\n",
    "x_val_s = scaler.transform(x_val_s)\n",
    "x_test_s = scaler.transform(x_test_s)"
   ]
  },
  {
   "cell_type": "markdown",
   "id": "c50e2249-3ddd-4548-af87-9676aff41af4",
   "metadata": {},
   "source": [
    "## 모델링"
   ]
  },
  {
   "cell_type": "code",
   "execution_count": 15,
   "id": "442e9d8f-3238-460c-851b-a4b1e334a6c1",
   "metadata": {},
   "outputs": [],
   "source": [
    "# 모델 불러오기\n",
    "from sklearn.svm import SVC\n",
    "from sklearn.ensemble import RandomForestClassifier\n",
    "from xgboost import XGBClassifier\n",
    "from lightgbm import LGBMClassifier\n",
    "\n",
    "# 모델 검증 및 평가\n",
    "from sklearn.model_selection import GridSearchCV\n",
    "from sklearn.metrics import accuracy_score, classification_report, confusion_matrix"
   ]
  },
  {
   "cell_type": "code",
   "execution_count": 16,
   "id": "5dd08e82-ed67-437b-b3a0-b7acc389feaf",
   "metadata": {},
   "outputs": [],
   "source": [
    "pred_result = {}"
   ]
  },
  {
   "cell_type": "markdown",
   "id": "e493cb66-1d8f-4853-ac62-63d48bf23126",
   "metadata": {
    "tags": []
   },
   "source": [
    "#### SVM"
   ]
  },
  {
   "cell_type": "code",
   "execution_count": 17,
   "id": "53da7d2b-b537-4161-ad5e-e8c877a08179",
   "metadata": {},
   "outputs": [
    {
     "name": "stdout",
     "output_type": "stream",
     "text": [
      "Fitting 5 folds for each of 4 candidates, totalling 20 fits\n",
      "[CV 1/5] END ..........C=1, gamma=1, kernel=rbf;, score=0.318 total time=  38.7s\n",
      "[CV 2/5] END ..........C=1, gamma=1, kernel=rbf;, score=0.318 total time=  38.2s\n",
      "[CV 3/5] END ..........C=1, gamma=1, kernel=rbf;, score=0.318 total time=  38.2s\n",
      "[CV 4/5] END ..........C=1, gamma=1, kernel=rbf;, score=0.318 total time=  38.2s\n",
      "[CV 5/5] END ..........C=1, gamma=1, kernel=rbf;, score=0.318 total time=  38.3s\n",
      "[CV 1/5] END ........C=1, gamma=0.1, kernel=rbf;, score=0.318 total time=  31.4s\n",
      "[CV 2/5] END ........C=1, gamma=0.1, kernel=rbf;, score=0.318 total time=  31.8s\n",
      "[CV 3/5] END ........C=1, gamma=0.1, kernel=rbf;, score=0.318 total time=  31.7s\n",
      "[CV 4/5] END ........C=1, gamma=0.1, kernel=rbf;, score=0.318 total time=  31.2s\n",
      "[CV 5/5] END ........C=1, gamma=0.1, kernel=rbf;, score=0.318 total time=  31.5s\n",
      "[CV 1/5] END .........C=10, gamma=1, kernel=rbf;, score=0.321 total time= 1.0min\n",
      "[CV 2/5] END .........C=10, gamma=1, kernel=rbf;, score=0.320 total time=  59.3s\n",
      "[CV 3/5] END .........C=10, gamma=1, kernel=rbf;, score=0.318 total time= 1.0min\n",
      "[CV 4/5] END .........C=10, gamma=1, kernel=rbf;, score=0.320 total time= 1.1min\n",
      "[CV 5/5] END .........C=10, gamma=1, kernel=rbf;, score=0.319 total time= 1.0min\n",
      "[CV 1/5] END .......C=10, gamma=0.1, kernel=rbf;, score=0.318 total time=  36.4s\n",
      "[CV 2/5] END .......C=10, gamma=0.1, kernel=rbf;, score=0.318 total time=  36.2s\n",
      "[CV 3/5] END .......C=10, gamma=0.1, kernel=rbf;, score=0.318 total time=  37.0s\n",
      "[CV 4/5] END .......C=10, gamma=0.1, kernel=rbf;, score=0.318 total time=  37.0s\n",
      "[CV 5/5] END .......C=10, gamma=0.1, kernel=rbf;, score=0.318 total time=  37.2s\n",
      "{'C': 10, 'gamma': 1, 'kernel': 'rbf'}\n",
      "0.3195707627888525\n",
      "[[  47    0    0    0    0    0 1292    0]\n",
      " [  11    0    0    0    0    0  511    0]\n",
      " [  14    0    0    0    0    0  732    0]\n",
      " [  10    0    0    0    0    0  651    0]\n",
      " [  12    0    0    0    0    0  715    0]\n",
      " [   3    0    0    0    0    0  519    0]\n",
      " [  20    0    0    0    0    0 2218    0]\n",
      " [   5    0    0    0    0    0  276    0]]\n",
      "              precision    recall  f1-score   support\n",
      "\n",
      "           0       0.39      0.04      0.06      1339\n",
      "           1       0.00      0.00      0.00       522\n",
      "           2       0.00      0.00      0.00       746\n",
      "           3       0.00      0.00      0.00       661\n",
      "           4       0.00      0.00      0.00       727\n",
      "           5       0.00      0.00      0.00       522\n",
      "           6       0.32      0.99      0.48      2238\n",
      "           7       0.00      0.00      0.00       281\n",
      "\n",
      "    accuracy                           0.32      7036\n",
      "   macro avg       0.09      0.13      0.07      7036\n",
      "weighted avg       0.18      0.32      0.17      7036\n",
      "\n"
     ]
    },
    {
     "name": "stderr",
     "output_type": "stream",
     "text": [
      "/usr/local/lib/python3.8/dist-packages/sklearn/metrics/_classification.py:1318: UndefinedMetricWarning: Precision and F-score are ill-defined and being set to 0.0 in labels with no predicted samples. Use `zero_division` parameter to control this behavior.\n",
      "  _warn_prf(average, modifier, msg_start, len(result))\n",
      "/usr/local/lib/python3.8/dist-packages/sklearn/metrics/_classification.py:1318: UndefinedMetricWarning: Precision and F-score are ill-defined and being set to 0.0 in labels with no predicted samples. Use `zero_division` parameter to control this behavior.\n",
      "  _warn_prf(average, modifier, msg_start, len(result))\n",
      "/usr/local/lib/python3.8/dist-packages/sklearn/metrics/_classification.py:1318: UndefinedMetricWarning: Precision and F-score are ill-defined and being set to 0.0 in labels with no predicted samples. Use `zero_division` parameter to control this behavior.\n",
      "  _warn_prf(average, modifier, msg_start, len(result))\n"
     ]
    }
   ],
   "source": [
    "svm_model = SVC()\n",
    "params = {'C': [1, 10],\n",
    "              'gamma': [1, 0.1],\n",
    "              'kernel': ['rbf']}\n",
    " \n",
    "model_svm = GridSearchCV(svm_model, params, refit = True, scoring='accuracy', verbose = 3)\n",
    "model_svm.fit(x_train_s, y_train)\n",
    "print(model_svm.best_params_)\n",
    "print(model_svm.best_score_)\n",
    "y_pred = model_svm.predict(x_val_s)\n",
    "print(confusion_matrix(y_val, y_pred))\n",
    "print(classification_report(y_val, y_pred))\n",
    "pred_result['SVM'] = [accuracy_score(y_val, y_pred)]"
   ]
  },
  {
   "cell_type": "markdown",
   "id": "db7cbb1a-12c1-48a4-9702-70499756c597",
   "metadata": {
    "tags": []
   },
   "source": [
    "#### RF"
   ]
  },
  {
   "cell_type": "code",
   "execution_count": 18,
   "id": "262c7640-6ab9-4402-8501-d2fd94e1e9c1",
   "metadata": {},
   "outputs": [
    {
     "name": "stdout",
     "output_type": "stream",
     "text": [
      "Fitting 3 folds for each of 18 candidates, totalling 54 fits\n",
      "[CV 1/3] END max_depth=3, min_samples_leaf=8, n_estimators=50;, score=0.321 total time=   0.7s\n",
      "[CV 2/3] END max_depth=3, min_samples_leaf=8, n_estimators=50;, score=0.321 total time=   0.7s\n",
      "[CV 3/3] END max_depth=3, min_samples_leaf=8, n_estimators=50;, score=0.322 total time=   0.7s\n",
      "[CV 1/3] END max_depth=3, min_samples_leaf=8, n_estimators=100;, score=0.321 total time=   1.4s\n",
      "[CV 2/3] END max_depth=3, min_samples_leaf=8, n_estimators=100;, score=0.321 total time=   1.4s\n",
      "[CV 3/3] END max_depth=3, min_samples_leaf=8, n_estimators=100;, score=0.322 total time=   1.4s\n",
      "[CV 1/3] END max_depth=3, min_samples_leaf=8, n_estimators=150;, score=0.321 total time=   2.1s\n",
      "[CV 2/3] END max_depth=3, min_samples_leaf=8, n_estimators=150;, score=0.321 total time=   2.1s\n",
      "[CV 3/3] END max_depth=3, min_samples_leaf=8, n_estimators=150;, score=0.322 total time=   2.2s\n",
      "[CV 1/3] END max_depth=3, min_samples_leaf=12, n_estimators=50;, score=0.321 total time=   0.7s\n",
      "[CV 2/3] END max_depth=3, min_samples_leaf=12, n_estimators=50;, score=0.321 total time=   0.7s\n",
      "[CV 3/3] END max_depth=3, min_samples_leaf=12, n_estimators=50;, score=0.322 total time=   0.7s\n",
      "[CV 1/3] END max_depth=3, min_samples_leaf=12, n_estimators=100;, score=0.321 total time=   1.4s\n",
      "[CV 2/3] END max_depth=3, min_samples_leaf=12, n_estimators=100;, score=0.321 total time=   1.4s\n",
      "[CV 3/3] END max_depth=3, min_samples_leaf=12, n_estimators=100;, score=0.322 total time=   1.4s\n",
      "[CV 1/3] END max_depth=3, min_samples_leaf=12, n_estimators=150;, score=0.321 total time=   2.1s\n",
      "[CV 2/3] END max_depth=3, min_samples_leaf=12, n_estimators=150;, score=0.321 total time=   2.1s\n",
      "[CV 3/3] END max_depth=3, min_samples_leaf=12, n_estimators=150;, score=0.322 total time=   2.1s\n",
      "[CV 1/3] END max_depth=4, min_samples_leaf=8, n_estimators=50;, score=0.322 total time=   0.9s\n",
      "[CV 2/3] END max_depth=4, min_samples_leaf=8, n_estimators=50;, score=0.323 total time=   1.0s\n",
      "[CV 3/3] END max_depth=4, min_samples_leaf=8, n_estimators=50;, score=0.324 total time=   0.9s\n",
      "[CV 1/3] END max_depth=4, min_samples_leaf=8, n_estimators=100;, score=0.322 total time=   1.7s\n",
      "[CV 2/3] END max_depth=4, min_samples_leaf=8, n_estimators=100;, score=0.322 total time=   1.7s\n",
      "[CV 3/3] END max_depth=4, min_samples_leaf=8, n_estimators=100;, score=0.324 total time=   1.7s\n",
      "[CV 1/3] END max_depth=4, min_samples_leaf=8, n_estimators=150;, score=0.322 total time=   2.6s\n",
      "[CV 2/3] END max_depth=4, min_samples_leaf=8, n_estimators=150;, score=0.323 total time=   2.6s\n",
      "[CV 3/3] END max_depth=4, min_samples_leaf=8, n_estimators=150;, score=0.324 total time=   2.6s\n",
      "[CV 1/3] END max_depth=4, min_samples_leaf=12, n_estimators=50;, score=0.322 total time=   0.9s\n",
      "[CV 2/3] END max_depth=4, min_samples_leaf=12, n_estimators=50;, score=0.323 total time=   0.9s\n",
      "[CV 3/3] END max_depth=4, min_samples_leaf=12, n_estimators=50;, score=0.324 total time=   0.9s\n",
      "[CV 1/3] END max_depth=4, min_samples_leaf=12, n_estimators=100;, score=0.322 total time=   1.7s\n",
      "[CV 2/3] END max_depth=4, min_samples_leaf=12, n_estimators=100;, score=0.323 total time=   1.7s\n",
      "[CV 3/3] END max_depth=4, min_samples_leaf=12, n_estimators=100;, score=0.324 total time=   1.8s\n",
      "[CV 1/3] END max_depth=4, min_samples_leaf=12, n_estimators=150;, score=0.323 total time=   2.6s\n",
      "[CV 2/3] END max_depth=4, min_samples_leaf=12, n_estimators=150;, score=0.323 total time=   2.6s\n",
      "[CV 3/3] END max_depth=4, min_samples_leaf=12, n_estimators=150;, score=0.323 total time=   2.6s\n",
      "[CV 1/3] END max_depth=5, min_samples_leaf=8, n_estimators=50;, score=0.327 total time=   1.0s\n",
      "[CV 2/3] END max_depth=5, min_samples_leaf=8, n_estimators=50;, score=0.327 total time=   1.0s\n",
      "[CV 3/3] END max_depth=5, min_samples_leaf=8, n_estimators=50;, score=0.324 total time=   1.0s\n",
      "[CV 1/3] END max_depth=5, min_samples_leaf=8, n_estimators=100;, score=0.327 total time=   2.0s\n",
      "[CV 2/3] END max_depth=5, min_samples_leaf=8, n_estimators=100;, score=0.326 total time=   2.0s\n",
      "[CV 3/3] END max_depth=5, min_samples_leaf=8, n_estimators=100;, score=0.325 total time=   2.0s\n",
      "[CV 1/3] END max_depth=5, min_samples_leaf=8, n_estimators=150;, score=0.327 total time=   3.0s\n",
      "[CV 2/3] END max_depth=5, min_samples_leaf=8, n_estimators=150;, score=0.325 total time=   3.0s\n",
      "[CV 3/3] END max_depth=5, min_samples_leaf=8, n_estimators=150;, score=0.325 total time=   3.0s\n",
      "[CV 1/3] END max_depth=5, min_samples_leaf=12, n_estimators=50;, score=0.327 total time=   1.0s\n",
      "[CV 2/3] END max_depth=5, min_samples_leaf=12, n_estimators=50;, score=0.326 total time=   1.1s\n",
      "[CV 3/3] END max_depth=5, min_samples_leaf=12, n_estimators=50;, score=0.324 total time=   1.0s\n",
      "[CV 1/3] END max_depth=5, min_samples_leaf=12, n_estimators=100;, score=0.327 total time=   2.0s\n",
      "[CV 2/3] END max_depth=5, min_samples_leaf=12, n_estimators=100;, score=0.326 total time=   2.0s\n",
      "[CV 3/3] END max_depth=5, min_samples_leaf=12, n_estimators=100;, score=0.324 total time=   2.0s\n",
      "[CV 1/3] END max_depth=5, min_samples_leaf=12, n_estimators=150;, score=0.328 total time=   3.0s\n",
      "[CV 2/3] END max_depth=5, min_samples_leaf=12, n_estimators=150;, score=0.325 total time=   3.0s\n",
      "[CV 3/3] END max_depth=5, min_samples_leaf=12, n_estimators=150;, score=0.325 total time=   3.0s\n",
      "{'max_depth': 5, 'min_samples_leaf': 8, 'n_estimators': 100}\n",
      "0.3261796180518605\n",
      "[[  96    0    0    0    6    0 1237    0]\n",
      " [  25    1    0    0   48    0  448    0]\n",
      " [  31    0    0    0   28    0  687    0]\n",
      " [  24    0    0    0   20    0  617    0]\n",
      " [  22    0    0    0   87    0  618    0]\n",
      " [  18    0    0    0   41    0  463    0]\n",
      " [  52    0    0    0   35    0 2151    0]\n",
      " [   8    2    0    0   30    0  241    0]]\n",
      "              precision    recall  f1-score   support\n",
      "\n",
      "           0       0.35      0.07      0.12      1339\n",
      "           1       0.33      0.00      0.00       522\n",
      "           2       0.00      0.00      0.00       746\n",
      "           3       0.00      0.00      0.00       661\n",
      "           4       0.29      0.12      0.17       727\n",
      "           5       0.00      0.00      0.00       522\n",
      "           6       0.33      0.96      0.49      2238\n",
      "           7       0.00      0.00      0.00       281\n",
      "\n",
      "    accuracy                           0.33      7036\n",
      "   macro avg       0.16      0.14      0.10      7036\n",
      "weighted avg       0.23      0.33      0.20      7036\n",
      "\n"
     ]
    },
    {
     "name": "stderr",
     "output_type": "stream",
     "text": [
      "/usr/local/lib/python3.8/dist-packages/sklearn/metrics/_classification.py:1318: UndefinedMetricWarning: Precision and F-score are ill-defined and being set to 0.0 in labels with no predicted samples. Use `zero_division` parameter to control this behavior.\n",
      "  _warn_prf(average, modifier, msg_start, len(result))\n",
      "/usr/local/lib/python3.8/dist-packages/sklearn/metrics/_classification.py:1318: UndefinedMetricWarning: Precision and F-score are ill-defined and being set to 0.0 in labels with no predicted samples. Use `zero_division` parameter to control this behavior.\n",
      "  _warn_prf(average, modifier, msg_start, len(result))\n",
      "/usr/local/lib/python3.8/dist-packages/sklearn/metrics/_classification.py:1318: UndefinedMetricWarning: Precision and F-score are ill-defined and being set to 0.0 in labels with no predicted samples. Use `zero_division` parameter to control this behavior.\n",
      "  _warn_prf(average, modifier, msg_start, len(result))\n"
     ]
    }
   ],
   "source": [
    "rf_model = RandomForestClassifier(random_state = 42)\n",
    "\n",
    "params = {\n",
    "    'max_depth': range(3,6),\n",
    "    'n_estimators': range(50,200,50),\n",
    "    'min_samples_leaf':range(8,16,4)\n",
    "}\n",
    "\n",
    "model_rf = GridSearchCV(rf_model,params, cv=3, scoring='accuracy', verbose = 3)\n",
    "model_rf.fit(x_train,y_train)\n",
    "\n",
    "print(model_rf.best_params_)\n",
    "print(model_rf.best_score_)\n",
    "y_pred = model_rf.predict(x_val)\n",
    "print(confusion_matrix(y_val, y_pred))\n",
    "print(classification_report(y_val, y_pred))\n",
    "pred_result['RandomForest'] = [accuracy_score(y_val, y_pred)]"
   ]
  },
  {
   "cell_type": "markdown",
   "id": "b2fb5cfa-28be-49af-b06b-3cc40fd1113a",
   "metadata": {},
   "source": [
    "#### XGB"
   ]
  },
  {
   "cell_type": "code",
   "execution_count": 19,
   "id": "b5e82d66-2dc0-45a5-9bb1-af8e5560b4b4",
   "metadata": {},
   "outputs": [
    {
     "name": "stdout",
     "output_type": "stream",
     "text": [
      "Fitting 3 folds for each of 27 candidates, totalling 81 fits\n",
      "[CV 1/3] END learning_rate=0.1, max_depth=3, n_estimators=50;, score=0.330 total time=  11.3s\n",
      "[CV 2/3] END learning_rate=0.1, max_depth=3, n_estimators=50;, score=0.330 total time=  10.9s\n",
      "[CV 3/3] END learning_rate=0.1, max_depth=3, n_estimators=50;, score=0.328 total time=  11.8s\n",
      "[CV 1/3] END learning_rate=0.1, max_depth=3, n_estimators=100;, score=0.333 total time=  22.1s\n",
      "[CV 2/3] END learning_rate=0.1, max_depth=3, n_estimators=100;, score=0.330 total time=  22.5s\n",
      "[CV 3/3] END learning_rate=0.1, max_depth=3, n_estimators=100;, score=0.328 total time=  22.6s\n",
      "[CV 1/3] END learning_rate=0.1, max_depth=3, n_estimators=150;, score=0.332 total time=  33.3s\n",
      "[CV 2/3] END learning_rate=0.1, max_depth=3, n_estimators=150;, score=0.333 total time=  33.7s\n",
      "[CV 3/3] END learning_rate=0.1, max_depth=3, n_estimators=150;, score=0.329 total time=  35.1s\n",
      "[CV 1/3] END learning_rate=0.1, max_depth=4, n_estimators=50;, score=0.333 total time=  15.9s\n",
      "[CV 2/3] END learning_rate=0.1, max_depth=4, n_estimators=50;, score=0.332 total time=  16.0s\n",
      "[CV 3/3] END learning_rate=0.1, max_depth=4, n_estimators=50;, score=0.332 total time=  16.4s\n",
      "[CV 1/3] END learning_rate=0.1, max_depth=4, n_estimators=100;, score=0.332 total time=  31.1s\n",
      "[CV 2/3] END learning_rate=0.1, max_depth=4, n_estimators=100;, score=0.332 total time=  30.7s\n",
      "[CV 3/3] END learning_rate=0.1, max_depth=4, n_estimators=100;, score=0.331 total time=  30.5s\n",
      "[CV 1/3] END learning_rate=0.1, max_depth=4, n_estimators=150;, score=0.332 total time=  45.5s\n",
      "[CV 2/3] END learning_rate=0.1, max_depth=4, n_estimators=150;, score=0.330 total time=  44.7s\n",
      "[CV 3/3] END learning_rate=0.1, max_depth=4, n_estimators=150;, score=0.329 total time=  44.4s\n",
      "[CV 1/3] END learning_rate=0.1, max_depth=5, n_estimators=50;, score=0.332 total time=  20.0s\n",
      "[CV 2/3] END learning_rate=0.1, max_depth=5, n_estimators=50;, score=0.332 total time=  21.2s\n",
      "[CV 3/3] END learning_rate=0.1, max_depth=5, n_estimators=50;, score=0.328 total time=  23.2s\n",
      "[CV 1/3] END learning_rate=0.1, max_depth=5, n_estimators=100;, score=0.334 total time=  40.3s\n",
      "[CV 2/3] END learning_rate=0.1, max_depth=5, n_estimators=100;, score=0.329 total time=  40.6s\n",
      "[CV 3/3] END learning_rate=0.1, max_depth=5, n_estimators=100;, score=0.327 total time=  42.2s\n",
      "[CV 1/3] END learning_rate=0.1, max_depth=5, n_estimators=150;, score=0.334 total time= 1.0min\n",
      "[CV 2/3] END learning_rate=0.1, max_depth=5, n_estimators=150;, score=0.328 total time=  58.1s\n",
      "[CV 3/3] END learning_rate=0.1, max_depth=5, n_estimators=150;, score=0.327 total time= 1.0min\n",
      "[CV 1/3] END learning_rate=0.05, max_depth=3, n_estimators=50;, score=0.329 total time=  12.1s\n",
      "[CV 2/3] END learning_rate=0.05, max_depth=3, n_estimators=50;, score=0.328 total time=  12.3s\n",
      "[CV 3/3] END learning_rate=0.05, max_depth=3, n_estimators=50;, score=0.326 total time=  12.3s\n",
      "[CV 1/3] END learning_rate=0.05, max_depth=3, n_estimators=100;, score=0.331 total time=  21.0s\n",
      "[CV 2/3] END learning_rate=0.05, max_depth=3, n_estimators=100;, score=0.330 total time=  25.3s\n",
      "[CV 3/3] END learning_rate=0.05, max_depth=3, n_estimators=100;, score=0.327 total time=  22.5s\n",
      "[CV 1/3] END learning_rate=0.05, max_depth=3, n_estimators=150;, score=0.333 total time=  36.7s\n",
      "[CV 2/3] END learning_rate=0.05, max_depth=3, n_estimators=150;, score=0.331 total time=  34.2s\n",
      "[CV 3/3] END learning_rate=0.05, max_depth=3, n_estimators=150;, score=0.329 total time=  34.0s\n",
      "[CV 1/3] END learning_rate=0.05, max_depth=4, n_estimators=50;, score=0.333 total time=  17.2s\n",
      "[CV 2/3] END learning_rate=0.05, max_depth=4, n_estimators=50;, score=0.330 total time=  19.5s\n",
      "[CV 3/3] END learning_rate=0.05, max_depth=4, n_estimators=50;, score=0.329 total time=  16.2s\n",
      "[CV 1/3] END learning_rate=0.05, max_depth=4, n_estimators=100;, score=0.334 total time=  33.6s\n",
      "[CV 2/3] END learning_rate=0.05, max_depth=4, n_estimators=100;, score=0.332 total time=  33.6s\n",
      "[CV 3/3] END learning_rate=0.05, max_depth=4, n_estimators=100;, score=0.330 total time=  34.2s\n",
      "[CV 1/3] END learning_rate=0.05, max_depth=4, n_estimators=150;, score=0.333 total time=  48.5s\n",
      "[CV 2/3] END learning_rate=0.05, max_depth=4, n_estimators=150;, score=0.333 total time=  49.7s\n",
      "[CV 3/3] END learning_rate=0.05, max_depth=4, n_estimators=150;, score=0.330 total time=  46.6s\n",
      "[CV 1/3] END learning_rate=0.05, max_depth=5, n_estimators=50;, score=0.333 total time=  23.0s\n",
      "[CV 2/3] END learning_rate=0.05, max_depth=5, n_estimators=50;, score=0.332 total time=  20.2s\n",
      "[CV 3/3] END learning_rate=0.05, max_depth=5, n_estimators=50;, score=0.329 total time=  21.7s\n",
      "[CV 1/3] END learning_rate=0.05, max_depth=5, n_estimators=100;, score=0.334 total time=  45.9s\n",
      "[CV 2/3] END learning_rate=0.05, max_depth=5, n_estimators=100;, score=0.330 total time=  44.2s\n",
      "[CV 3/3] END learning_rate=0.05, max_depth=5, n_estimators=100;, score=0.330 total time=  44.3s\n",
      "[CV 1/3] END learning_rate=0.05, max_depth=5, n_estimators=150;, score=0.333 total time= 1.1min\n",
      "[CV 2/3] END learning_rate=0.05, max_depth=5, n_estimators=150;, score=0.330 total time= 1.1min\n",
      "[CV 3/3] END learning_rate=0.05, max_depth=5, n_estimators=150;, score=0.329 total time= 1.1min\n",
      "[CV 1/3] END learning_rate=0.01, max_depth=3, n_estimators=50;, score=0.325 total time=  12.2s\n",
      "[CV 2/3] END learning_rate=0.01, max_depth=3, n_estimators=50;, score=0.324 total time=  12.6s\n",
      "[CV 3/3] END learning_rate=0.01, max_depth=3, n_estimators=50;, score=0.319 total time=  12.0s\n",
      "[CV 1/3] END learning_rate=0.01, max_depth=3, n_estimators=100;, score=0.326 total time=  23.9s\n",
      "[CV 2/3] END learning_rate=0.01, max_depth=3, n_estimators=100;, score=0.327 total time=  22.7s\n",
      "[CV 3/3] END learning_rate=0.01, max_depth=3, n_estimators=100;, score=0.324 total time=  23.1s\n",
      "[CV 1/3] END learning_rate=0.01, max_depth=3, n_estimators=150;, score=0.328 total time=  36.2s\n",
      "[CV 2/3] END learning_rate=0.01, max_depth=3, n_estimators=150;, score=0.327 total time=  36.1s\n",
      "[CV 3/3] END learning_rate=0.01, max_depth=3, n_estimators=150;, score=0.324 total time=  35.2s\n",
      "[CV 1/3] END learning_rate=0.01, max_depth=4, n_estimators=50;, score=0.330 total time=  17.6s\n",
      "[CV 2/3] END learning_rate=0.01, max_depth=4, n_estimators=50;, score=0.327 total time=  17.3s\n",
      "[CV 3/3] END learning_rate=0.01, max_depth=4, n_estimators=50;, score=0.326 total time=  16.5s\n",
      "[CV 1/3] END learning_rate=0.01, max_depth=4, n_estimators=100;, score=0.332 total time=  33.0s\n",
      "[CV 2/3] END learning_rate=0.01, max_depth=4, n_estimators=100;, score=0.329 total time=  33.5s\n",
      "[CV 3/3] END learning_rate=0.01, max_depth=4, n_estimators=100;, score=0.326 total time=  33.4s\n",
      "[CV 1/3] END learning_rate=0.01, max_depth=4, n_estimators=150;, score=0.332 total time=  48.4s\n",
      "[CV 2/3] END learning_rate=0.01, max_depth=4, n_estimators=150;, score=0.330 total time=  52.0s\n",
      "[CV 3/3] END learning_rate=0.01, max_depth=4, n_estimators=150;, score=0.327 total time=  53.5s\n",
      "[CV 1/3] END learning_rate=0.01, max_depth=5, n_estimators=50;, score=0.331 total time=  21.6s\n",
      "[CV 2/3] END learning_rate=0.01, max_depth=5, n_estimators=50;, score=0.327 total time=  23.3s\n",
      "[CV 3/3] END learning_rate=0.01, max_depth=5, n_estimators=50;, score=0.326 total time=  21.6s\n",
      "[CV 1/3] END learning_rate=0.01, max_depth=5, n_estimators=100;, score=0.332 total time=  43.8s\n",
      "[CV 2/3] END learning_rate=0.01, max_depth=5, n_estimators=100;, score=0.329 total time=  45.1s\n",
      "[CV 3/3] END learning_rate=0.01, max_depth=5, n_estimators=100;, score=0.327 total time=  45.4s\n",
      "[CV 1/3] END learning_rate=0.01, max_depth=5, n_estimators=150;, score=0.331 total time= 1.1min\n",
      "[CV 2/3] END learning_rate=0.01, max_depth=5, n_estimators=150;, score=0.331 total time= 1.1min\n",
      "[CV 3/3] END learning_rate=0.01, max_depth=5, n_estimators=150;, score=0.328 total time= 1.1min\n",
      "{'learning_rate': 0.1, 'max_depth': 4, 'n_estimators': 50}\n",
      "0.3323976371458513\n",
      "[[ 210    7    4    0   17    0 1101    0]\n",
      " [  54   24    3    0   39    0  402    0]\n",
      " [  72   16    4    0   33    0  621    0]\n",
      " [  66   10    4    0   17    1  563    0]\n",
      " [  62    9    4    0  111    1  540    0]\n",
      " [  43   13    1    0   46    2  417    0]\n",
      " [ 173   15    2    0   48    0 2000    0]\n",
      " [  20   17    3    2   29    0  209    1]]\n",
      "              precision    recall  f1-score   support\n",
      "\n",
      "           0       0.30      0.16      0.21      1339\n",
      "           1       0.22      0.05      0.08       522\n",
      "           2       0.16      0.01      0.01       746\n",
      "           3       0.00      0.00      0.00       661\n",
      "           4       0.33      0.15      0.21       727\n",
      "           5       0.50      0.00      0.01       522\n",
      "           6       0.34      0.89      0.49      2238\n",
      "           7       1.00      0.00      0.01       281\n",
      "\n",
      "    accuracy                           0.33      7036\n",
      "   macro avg       0.36      0.16      0.13      7036\n",
      "weighted avg       0.31      0.33      0.23      7036\n",
      "\n"
     ]
    }
   ],
   "source": [
    "xgb_model = XGBClassifier(random_state = 42)\n",
    "\n",
    "params = {\n",
    "    'max_depth': range(3,6),\n",
    "    'n_estimators': range(50,200,50),\n",
    "    'learning_rate': [0.1,0.05,0.01]\n",
    "}\n",
    "\n",
    "model_xgb = GridSearchCV(xgb_model,params, cv=3, scoring='accuracy', verbose=3)\n",
    "model_xgb.fit(x_train,y_train)\n",
    "print(model_xgb.best_params_)\n",
    "print(model_xgb.best_score_)\n",
    "\n",
    "y_pred = model_xgb.predict(x_val)\n",
    "print(confusion_matrix(y_val, y_pred))\n",
    "print(classification_report(y_val, y_pred))\n",
    "pred_result['XGB'] = [accuracy_score(y_val, y_pred)]"
   ]
  },
  {
   "cell_type": "markdown",
   "id": "c944c7eb-2c34-41c5-b759-901f68e8885f",
   "metadata": {},
   "source": [
    " #### LGBM"
   ]
  },
  {
   "cell_type": "code",
   "execution_count": 22,
   "id": "3a260362-4549-442b-83c4-339bc6327f23",
   "metadata": {},
   "outputs": [
    {
     "name": "stdout",
     "output_type": "stream",
     "text": [
      "Fitting 3 folds for each of 27 candidates, totalling 81 fits\n",
      "[CV 1/3] END learning_rate=0.1, max_depth=3, n_estimators=50;, score=0.335 total time=   9.0s\n",
      "[CV 2/3] END learning_rate=0.1, max_depth=3, n_estimators=50;, score=0.332 total time=   9.2s\n",
      "[CV 3/3] END learning_rate=0.1, max_depth=3, n_estimators=50;, score=0.329 total time=   8.9s\n",
      "[CV 1/3] END learning_rate=0.1, max_depth=3, n_estimators=100;, score=0.335 total time=  20.5s\n",
      "[CV 2/3] END learning_rate=0.1, max_depth=3, n_estimators=100;, score=0.332 total time=  19.2s\n",
      "[CV 3/3] END learning_rate=0.1, max_depth=3, n_estimators=100;, score=0.330 total time=  20.0s\n",
      "[CV 1/3] END learning_rate=0.1, max_depth=3, n_estimators=150;, score=0.334 total time=  27.2s\n",
      "[CV 2/3] END learning_rate=0.1, max_depth=3, n_estimators=150;, score=0.330 total time=  34.6s\n",
      "[CV 3/3] END learning_rate=0.1, max_depth=3, n_estimators=150;, score=0.329 total time=  31.4s\n",
      "[CV 1/3] END learning_rate=0.1, max_depth=4, n_estimators=50;, score=0.334 total time=  17.7s\n",
      "[CV 2/3] END learning_rate=0.1, max_depth=4, n_estimators=50;, score=0.336 total time=  16.0s\n",
      "[CV 3/3] END learning_rate=0.1, max_depth=4, n_estimators=50;, score=0.330 total time=  13.9s\n",
      "[CV 1/3] END learning_rate=0.1, max_depth=4, n_estimators=100;, score=0.333 total time=  26.3s\n",
      "[CV 2/3] END learning_rate=0.1, max_depth=4, n_estimators=100;, score=0.330 total time=  34.2s\n",
      "[CV 3/3] END learning_rate=0.1, max_depth=4, n_estimators=100;, score=0.327 total time=  29.1s\n",
      "[CV 1/3] END learning_rate=0.1, max_depth=4, n_estimators=150;, score=0.326 total time=  34.3s\n",
      "[CV 2/3] END learning_rate=0.1, max_depth=4, n_estimators=150;, score=0.323 total time=  38.1s\n",
      "[CV 3/3] END learning_rate=0.1, max_depth=4, n_estimators=150;, score=0.325 total time=  43.4s\n",
      "[CV 1/3] END learning_rate=0.1, max_depth=5, n_estimators=50;, score=0.333 total time=  20.8s\n",
      "[CV 2/3] END learning_rate=0.1, max_depth=5, n_estimators=50;, score=0.330 total time=  26.4s\n",
      "[CV 3/3] END learning_rate=0.1, max_depth=5, n_estimators=50;, score=0.330 total time=  26.0s\n",
      "[CV 1/3] END learning_rate=0.1, max_depth=5, n_estimators=100;, score=0.326 total time=  32.3s\n",
      "[CV 2/3] END learning_rate=0.1, max_depth=5, n_estimators=100;, score=0.327 total time=  41.5s\n",
      "[CV 3/3] END learning_rate=0.1, max_depth=5, n_estimators=100;, score=0.328 total time=  43.6s\n",
      "[CV 1/3] END learning_rate=0.1, max_depth=5, n_estimators=150;, score=0.321 total time= 1.3min\n",
      "[CV 2/3] END learning_rate=0.1, max_depth=5, n_estimators=150;, score=0.319 total time= 1.0min\n",
      "[CV 3/3] END learning_rate=0.1, max_depth=5, n_estimators=150;, score=0.327 total time= 1.2min\n",
      "[CV 1/3] END learning_rate=0.05, max_depth=3, n_estimators=50;, score=0.330 total time=   6.8s\n",
      "[CV 2/3] END learning_rate=0.05, max_depth=3, n_estimators=50;, score=0.330 total time=   9.1s\n",
      "[CV 3/3] END learning_rate=0.05, max_depth=3, n_estimators=50;, score=0.326 total time=   8.8s\n",
      "[CV 1/3] END learning_rate=0.05, max_depth=3, n_estimators=100;, score=0.334 total time=  18.9s\n",
      "[CV 2/3] END learning_rate=0.05, max_depth=3, n_estimators=100;, score=0.332 total time=  20.3s\n",
      "[CV 3/3] END learning_rate=0.05, max_depth=3, n_estimators=100;, score=0.329 total time=  19.2s\n",
      "[CV 1/3] END learning_rate=0.05, max_depth=3, n_estimators=150;, score=0.335 total time=  29.6s\n",
      "[CV 2/3] END learning_rate=0.05, max_depth=3, n_estimators=150;, score=0.332 total time=  45.3s\n",
      "[CV 3/3] END learning_rate=0.05, max_depth=3, n_estimators=150;, score=0.330 total time=  34.5s\n",
      "[CV 1/3] END learning_rate=0.05, max_depth=4, n_estimators=50;, score=0.333 total time=  10.2s\n",
      "[CV 2/3] END learning_rate=0.05, max_depth=4, n_estimators=50;, score=0.333 total time=  19.6s\n",
      "[CV 3/3] END learning_rate=0.05, max_depth=4, n_estimators=50;, score=0.328 total time=  12.4s\n",
      "[CV 1/3] END learning_rate=0.05, max_depth=4, n_estimators=100;, score=0.334 total time=  20.8s\n",
      "[CV 2/3] END learning_rate=0.05, max_depth=4, n_estimators=100;, score=0.334 total time=  39.1s\n",
      "[CV 3/3] END learning_rate=0.05, max_depth=4, n_estimators=100;, score=0.330 total time=  30.8s\n",
      "[CV 1/3] END learning_rate=0.05, max_depth=4, n_estimators=150;, score=0.334 total time=  30.9s\n",
      "[CV 2/3] END learning_rate=0.05, max_depth=4, n_estimators=150;, score=0.332 total time=  51.6s\n",
      "[CV 3/3] END learning_rate=0.05, max_depth=4, n_estimators=150;, score=0.329 total time=  47.9s\n",
      "[CV 1/3] END learning_rate=0.05, max_depth=5, n_estimators=50;, score=0.334 total time=  20.8s\n",
      "[CV 2/3] END learning_rate=0.05, max_depth=5, n_estimators=50;, score=0.332 total time=  26.3s\n",
      "[CV 3/3] END learning_rate=0.05, max_depth=5, n_estimators=50;, score=0.331 total time=  28.9s\n",
      "[CV 1/3] END learning_rate=0.05, max_depth=5, n_estimators=100;, score=0.333 total time=  44.4s\n",
      "[CV 2/3] END learning_rate=0.05, max_depth=5, n_estimators=100;, score=0.331 total time=  50.6s\n",
      "[CV 3/3] END learning_rate=0.05, max_depth=5, n_estimators=100;, score=0.331 total time=  47.4s\n",
      "[CV 1/3] END learning_rate=0.05, max_depth=5, n_estimators=150;, score=0.332 total time=  55.9s\n",
      "[CV 2/3] END learning_rate=0.05, max_depth=5, n_estimators=150;, score=0.329 total time= 1.0min\n",
      "[CV 3/3] END learning_rate=0.05, max_depth=5, n_estimators=150;, score=0.331 total time= 1.1min\n",
      "[CV 1/3] END learning_rate=0.01, max_depth=3, n_estimators=50;, score=0.319 total time=   7.1s\n",
      "[CV 2/3] END learning_rate=0.01, max_depth=3, n_estimators=50;, score=0.319 total time=  11.4s\n",
      "[CV 3/3] END learning_rate=0.01, max_depth=3, n_estimators=50;, score=0.319 total time=   8.1s\n",
      "[CV 1/3] END learning_rate=0.01, max_depth=3, n_estimators=100;, score=0.321 total time=  12.2s\n",
      "[CV 2/3] END learning_rate=0.01, max_depth=3, n_estimators=100;, score=0.319 total time=  14.3s\n",
      "[CV 3/3] END learning_rate=0.01, max_depth=3, n_estimators=100;, score=0.321 total time=  18.5s\n",
      "[CV 1/3] END learning_rate=0.01, max_depth=3, n_estimators=150;, score=0.330 total time=  30.0s\n",
      "[CV 2/3] END learning_rate=0.01, max_depth=3, n_estimators=150;, score=0.325 total time=  33.8s\n",
      "[CV 3/3] END learning_rate=0.01, max_depth=3, n_estimators=150;, score=0.324 total time=  31.8s\n",
      "[CV 1/3] END learning_rate=0.01, max_depth=4, n_estimators=50;, score=0.319 total time=  10.6s\n",
      "[CV 2/3] END learning_rate=0.01, max_depth=4, n_estimators=50;, score=0.319 total time=  21.6s\n",
      "[CV 3/3] END learning_rate=0.01, max_depth=4, n_estimators=50;, score=0.319 total time=  17.2s\n",
      "[CV 1/3] END learning_rate=0.01, max_depth=4, n_estimators=100;, score=0.326 total time=  35.5s\n",
      "[CV 2/3] END learning_rate=0.01, max_depth=4, n_estimators=100;, score=0.321 total time=  29.6s\n",
      "[CV 3/3] END learning_rate=0.01, max_depth=4, n_estimators=100;, score=0.322 total time=  43.0s\n",
      "[CV 1/3] END learning_rate=0.01, max_depth=4, n_estimators=150;, score=0.330 total time=  52.5s\n",
      "[CV 2/3] END learning_rate=0.01, max_depth=4, n_estimators=150;, score=0.330 total time=  55.7s\n",
      "[CV 3/3] END learning_rate=0.01, max_depth=4, n_estimators=150;, score=0.325 total time=  54.5s\n",
      "[CV 1/3] END learning_rate=0.01, max_depth=5, n_estimators=50;, score=0.319 total time=  22.6s\n",
      "[CV 2/3] END learning_rate=0.01, max_depth=5, n_estimators=50;, score=0.318 total time=  27.0s\n",
      "[CV 3/3] END learning_rate=0.01, max_depth=5, n_estimators=50;, score=0.319 total time=  23.2s\n",
      "[CV 1/3] END learning_rate=0.01, max_depth=5, n_estimators=100;, score=0.328 total time=  55.6s\n",
      "[CV 2/3] END learning_rate=0.01, max_depth=5, n_estimators=100;, score=0.325 total time=  56.0s\n",
      "[CV 3/3] END learning_rate=0.01, max_depth=5, n_estimators=100;, score=0.323 total time=  51.9s\n",
      "[CV 1/3] END learning_rate=0.01, max_depth=5, n_estimators=150;, score=0.332 total time= 1.3min\n",
      "[CV 2/3] END learning_rate=0.01, max_depth=5, n_estimators=150;, score=0.331 total time= 1.5min\n",
      "[CV 3/3] END learning_rate=0.01, max_depth=5, n_estimators=150;, score=0.328 total time=  32.4s\n",
      "{'learning_rate': 0.1, 'max_depth': 4, 'n_estimators': 50}\n",
      "0.3331082782875801\n",
      "[[ 227    8    4    2   17    0 1080    1]\n",
      " [  55   25    6    2   39    0  392    3]\n",
      " [  84   18    8    1   37    0  597    1]\n",
      " [  73   13    6    3   17    1  546    2]\n",
      " [  67   12    6    0  111    3  526    2]\n",
      " [  36   17    2    2   51    4  410    0]\n",
      " [ 184   17    3    6   60    0 1968    0]\n",
      " [  20   18    4    3   26    1  204    5]]\n",
      "              precision    recall  f1-score   support\n",
      "\n",
      "           0       0.30      0.17      0.22      1339\n",
      "           1       0.20      0.05      0.08       522\n",
      "           2       0.21      0.01      0.02       746\n",
      "           3       0.16      0.00      0.01       661\n",
      "           4       0.31      0.15      0.20       727\n",
      "           5       0.44      0.01      0.02       522\n",
      "           6       0.34      0.88      0.49      2238\n",
      "           7       0.36      0.02      0.03       281\n",
      "\n",
      "    accuracy                           0.33      7036\n",
      "   macro avg       0.29      0.16      0.13      7036\n",
      "weighted avg       0.30      0.33      0.23      7036\n",
      "\n"
     ]
    }
   ],
   "source": [
    "lgbm_model = LGBMClassifier(random_state = 42)\n",
    "\n",
    "params = {\n",
    "    'max_depth': range(3,6),\n",
    "    'n_estimators': range(50,200,50),\n",
    "    'learning_rate': [0.1,0.05,0.01]\n",
    "}\n",
    "\n",
    "model_lgbm = GridSearchCV(lgbm_model,params, cv=3, scoring='accuracy', verbose=3)\n",
    "model_lgbm.fit(x_train,y_train)\n",
    "print(model_lgbm.best_params_)\n",
    "print(model_lgbm.best_score_)\n",
    "\n",
    "y_pred = model_lgbm.predict(x_val)\n",
    "print(confusion_matrix(y_val, y_pred))\n",
    "print(classification_report(y_val, y_pred))\n",
    "pred_result['LGBM'] = [accuracy_score(y_val, y_pred)]"
   ]
  },
  {
   "cell_type": "code",
   "execution_count": 23,
   "id": "10e72f18-4951-4f8d-b039-1745b1dbcc07",
   "metadata": {},
   "outputs": [
    {
     "data": {
      "text/plain": [
       "{'SVM': [0.3219158612848209],\n",
       " 'RandomForest': [0.33186469584991474],\n",
       " 'XGB': [0.3342808413871518],\n",
       " 'LGBM': [0.334138715179079]}"
      ]
     },
     "execution_count": 23,
     "metadata": {},
     "output_type": "execute_result"
    }
   ],
   "source": [
    "pred_result"
   ]
  },
  {
   "cell_type": "markdown",
   "id": "4c46c3c5-3518-489d-aa7c-0cec6c3bae41",
   "metadata": {},
   "source": [
    "### 성능 비교"
   ]
  },
  {
   "cell_type": "code",
   "execution_count": 24,
   "id": "c0d2afcb-8791-43b0-9fb1-52f2f96640a9",
   "metadata": {},
   "outputs": [
    {
     "data": {
      "text/html": [
       "<div>\n",
       "<style scoped>\n",
       "    .dataframe tbody tr th:only-of-type {\n",
       "        vertical-align: middle;\n",
       "    }\n",
       "\n",
       "    .dataframe tbody tr th {\n",
       "        vertical-align: top;\n",
       "    }\n",
       "\n",
       "    .dataframe thead th {\n",
       "        text-align: right;\n",
       "    }\n",
       "</style>\n",
       "<table border=\"1\" class=\"dataframe\">\n",
       "  <thead>\n",
       "    <tr style=\"text-align: right;\">\n",
       "      <th></th>\n",
       "      <th>accuracy</th>\n",
       "    </tr>\n",
       "  </thead>\n",
       "  <tbody>\n",
       "    <tr>\n",
       "      <th>SVM</th>\n",
       "      <td>0.321916</td>\n",
       "    </tr>\n",
       "    <tr>\n",
       "      <th>RandomForest</th>\n",
       "      <td>0.331865</td>\n",
       "    </tr>\n",
       "    <tr>\n",
       "      <th>XGB</th>\n",
       "      <td>0.334281</td>\n",
       "    </tr>\n",
       "    <tr>\n",
       "      <th>LGBM</th>\n",
       "      <td>0.334139</td>\n",
       "    </tr>\n",
       "  </tbody>\n",
       "</table>\n",
       "</div>"
      ],
      "text/plain": [
       "              accuracy\n",
       "SVM           0.321916\n",
       "RandomForest  0.331865\n",
       "XGB           0.334281\n",
       "LGBM          0.334139"
      ]
     },
     "execution_count": 24,
     "metadata": {},
     "output_type": "execute_result"
    }
   ],
   "source": [
    "result_df = pd.DataFrame(pred_result).T\n",
    "result_df.columns = ['accuracy']\n",
    "result_df"
   ]
  },
  {
   "cell_type": "markdown",
   "id": "6f4af626-3852-400a-916e-d84917dec018",
   "metadata": {},
   "source": [
    "- 가장 성능이 높게 나온 모델은 LGBM이고 accuracy는 0.334139다"
   ]
  },
  {
   "cell_type": "markdown",
   "id": "21d04729-d8ab-4250-a0fb-074adc68779e",
   "metadata": {},
   "source": [
    "### test 데이터로 평가"
   ]
  },
  {
   "cell_type": "code",
   "execution_count": 25,
   "id": "3a4f8db1-11a9-4aaf-9adf-680a45153c0f",
   "metadata": {},
   "outputs": [
    {
     "name": "stdout",
     "output_type": "stream",
     "text": [
      "[[ 309   11    2    3   14    1 1333    1]\n",
      " [  57   32    7    1   62    2  488    4]\n",
      " [ 102   20    9    3   60    2  733    3]\n",
      " [ 108   16    5    7   23    3  660    4]\n",
      " [  89   17    4    2  121    3  669    5]\n",
      " [  49   13    4    1   56    1  525    3]\n",
      " [ 238   28   10    7   66    3 2444    1]\n",
      " [  26   29    3    3   35    1  252    2]]\n",
      "              precision    recall  f1-score   support\n",
      "\n",
      "           0       0.32      0.18      0.23      1674\n",
      "           1       0.19      0.05      0.08       653\n",
      "           2       0.20      0.01      0.02       932\n",
      "           3       0.26      0.01      0.02       826\n",
      "           4       0.28      0.13      0.18       910\n",
      "           5       0.06      0.00      0.00       652\n",
      "           6       0.34      0.87      0.49      2797\n",
      "           7       0.09      0.01      0.01       351\n",
      "\n",
      "    accuracy                           0.33      8795\n",
      "   macro avg       0.22      0.16      0.13      8795\n",
      "weighted avg       0.27      0.33      0.23      8795\n",
      "\n"
     ]
    }
   ],
   "source": [
    "y_pred = model_lgbm.predict(x_test)\n",
    "print(confusion_matrix(y_test, y_pred))\n",
    "print(classification_report(y_test, y_pred))"
   ]
  },
  {
   "cell_type": "code",
   "execution_count": 30,
   "id": "9763e4a5-f84b-489e-adab-0e8d086d82ea",
   "metadata": {},
   "outputs": [
    {
     "data": {
      "text/plain": [
       "['./model/model_lgbm.pkl']"
      ]
     },
     "execution_count": 30,
     "metadata": {},
     "output_type": "execute_result"
    }
   ],
   "source": [
    "import joblib\n",
    "\n",
    "joblib.dump(model_lgbm, './model/model_lgbm.pkl')"
   ]
  },
  {
   "cell_type": "code",
   "execution_count": null,
   "id": "870102c4-fc5c-4832-a9d6-437b4d18f63c",
   "metadata": {},
   "outputs": [],
   "source": []
  }
 ],
 "metadata": {
  "kernelspec": {
   "display_name": "Python 3 (ipykernel)",
   "language": "python",
   "name": "python3"
  },
  "language_info": {
   "codemirror_mode": {
    "name": "ipython",
    "version": 3
   },
   "file_extension": ".py",
   "mimetype": "text/x-python",
   "name": "python",
   "nbconvert_exporter": "python",
   "pygments_lexer": "ipython3",
   "version": "3.8.10"
  },
  "toc-autonumbering": false
 },
 "nbformat": 4,
 "nbformat_minor": 5
}
